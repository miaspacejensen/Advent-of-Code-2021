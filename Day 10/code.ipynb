{
 "cells": [
  {
   "cell_type": "code",
   "execution_count": 11,
   "metadata": {},
   "outputs": [],
   "source": [
    "def get_data(file_name):\n",
    "    with open(file_name, \"r\") as file:\n",
    "        text = file.read()\n",
    "    # lines = [[val for val in list(line)] for line in text.split(\"\\n\")]\n",
    "    lines = [line for line in text.split(\"\\n\")]\n",
    "    return lines"
   ]
  },
  {
   "cell_type": "code",
   "execution_count": 13,
   "metadata": {},
   "outputs": [],
   "source": [
    "def display(grid):\n",
    "    for row in grid:\n",
    "        print(\"\".join(row))"
   ]
  },
  {
   "cell_type": "code",
   "execution_count": 15,
   "metadata": {},
   "outputs": [],
   "source": [
    "valid_chunks = {\n",
    "    '(': ')',\n",
    "    '[': ']',\n",
    "    '{': '}',\n",
    "    '<': '>'\n",
    "}"
   ]
  },
  {
   "cell_type": "code",
   "execution_count": 16,
   "metadata": {},
   "outputs": [
    {
     "name": "stdout",
     "output_type": "stream",
     "text": [
      "[({(<(())[]>[[{[]{<()<>>\n",
      "[(()[<>])]({[<{<<[]>>(\n",
      "{([(<{}[<>[]}>{[]{[(<()>\n",
      "(((({<>}<{<{<>}{[]{[]{}\n",
      "[[<[([]))<([[{}[[()]]]\n",
      "[{[{({}]{}}([{[{{{}}([]\n",
      "{<[[]]>}<{[{[{[]{()[[[]\n",
      "[<(<(<(<{}))><([]([]()\n",
      "<{([([[(<>()){}]>(<<{{\n",
      "<{([{{}}[<[[[<>{}]]]>[]]\n"
     ]
    }
   ],
   "source": [
    "grid = get_data(\"input_sample.txt\")\n",
    "display(grid)"
   ]
  },
  {
   "cell_type": "code",
   "execution_count": 70,
   "metadata": {},
   "outputs": [
    {
     "name": "stdout",
     "output_type": "stream",
     "text": [
      "3. {([(<{}[<>[]}>{[]{[(<()> - Expected ], but found } instead.\n",
      "5. [[<[([]))<([[{}[[()]]] - Expected ], but found ) instead.\n",
      "6. [{[{({}]{}}([{[{{{}}([] - Expected }, but found ] instead.\n",
      "8. [<(<(<(<{}))><([]([]() - Expected }, but found ) instead.\n",
      "9. <{([([[(<>()){}]>(<<{{ - Expected }, but found ] instead.\n"
     ]
    }
   ],
   "source": [
    "for i, subsystem in enumerate(grid):\n",
    "    chars = ''\n",
    "    mirror = ''\n",
    "    for char in subsystem:\n",
    "        chars += char \n",
    "        try:\n",
    "            mirror = valid_chunks[char] + mirror\n",
    "        except KeyError:\n",
    "            if char != mirror[0] and i+1 in [3,5,6,8,9]:\n",
    "                print(f\"{i+1}. {subsystem} - Expected {mirror[0]}, but found {char} instead.\")\n",
    "                break"
   ]
  },
  {
   "cell_type": "code",
   "execution_count": null,
   "metadata": {},
   "outputs": [],
   "source": []
  }
 ],
 "metadata": {
  "kernelspec": {
   "display_name": "Python 3",
   "language": "python",
   "name": "python3"
  },
  "language_info": {
   "codemirror_mode": {
    "name": "ipython",
    "version": 3
   },
   "file_extension": ".py",
   "mimetype": "text/x-python",
   "name": "python",
   "nbconvert_exporter": "python",
   "pygments_lexer": "ipython3",
   "version": "3.11.3"
  }
 },
 "nbformat": 4,
 "nbformat_minor": 2
}
