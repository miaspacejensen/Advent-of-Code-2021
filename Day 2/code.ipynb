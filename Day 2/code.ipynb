{
 "cells": [
  {
   "cell_type": "markdown",
   "metadata": {},
   "source": [
    "Part 1"
   ]
  },
  {
   "cell_type": "code",
   "execution_count": 15,
   "metadata": {},
   "outputs": [],
   "source": [
    "def get_data(file_name):\n",
    "    with open(file_name, \"r\") as file:\n",
    "        text = file.read()\n",
    "    values = text.split(\"\\n\")\n",
    "    values = [val.split(\" \") for val in values]\n",
    "    values = [[val[0], int(val[1])] for val in values]\n",
    "    return values"
   ]
  },
  {
   "cell_type": "code",
   "execution_count": 36,
   "metadata": {},
   "outputs": [],
   "source": [
    "def get_result(data):\n",
    "    depth = 0\n",
    "    horiz = 0\n",
    "\n",
    "    for dir, val in data:\n",
    "        if dir == \"forward\":\n",
    "            horiz += val \n",
    "        elif dir == \"down\":\n",
    "            depth += val \n",
    "        elif dir == \"up\":\n",
    "            depth -= val \n",
    "        else:\n",
    "            pass \n",
    "\n",
    "    result = depth * horiz\n",
    "    return result"
   ]
  },
  {
   "cell_type": "code",
   "execution_count": 37,
   "metadata": {},
   "outputs": [
    {
     "data": {
      "text/plain": [
       "150"
      ]
     },
     "execution_count": 37,
     "metadata": {},
     "output_type": "execute_result"
    }
   ],
   "source": [
    "data = get_data(\"input_sample.txt\")\n",
    "get_result(data)"
   ]
  },
  {
   "cell_type": "code",
   "execution_count": 38,
   "metadata": {},
   "outputs": [
    {
     "data": {
      "text/plain": [
       "1694130"
      ]
     },
     "execution_count": 38,
     "metadata": {},
     "output_type": "execute_result"
    }
   ],
   "source": [
    "data = get_data(\"input.txt\")\n",
    "get_result(data)"
   ]
  },
  {
   "cell_type": "markdown",
   "metadata": {},
   "source": [
    "Part 2"
   ]
  },
  {
   "cell_type": "code",
   "execution_count": 39,
   "metadata": {},
   "outputs": [],
   "source": [
    "def get_result(data):\n",
    "    depth = 0\n",
    "    horiz = 0\n",
    "    aim = 0\n",
    "\n",
    "    for dir, val in data:\n",
    "        if dir == \"forward\":\n",
    "            horiz += val \n",
    "            depth += aim * val\n",
    "        elif dir == \"down\":\n",
    "            aim += val\n",
    "        elif dir == \"up\":\n",
    "            aim -= val\n",
    "        else:\n",
    "            pass \n",
    "\n",
    "    result = depth * horiz\n",
    "    return result"
   ]
  },
  {
   "cell_type": "code",
   "execution_count": 40,
   "metadata": {},
   "outputs": [
    {
     "data": {
      "text/plain": [
       "900"
      ]
     },
     "execution_count": 40,
     "metadata": {},
     "output_type": "execute_result"
    }
   ],
   "source": [
    "data = get_data(\"input_sample.txt\")\n",
    "get_result(data)"
   ]
  },
  {
   "cell_type": "code",
   "execution_count": 41,
   "metadata": {},
   "outputs": [
    {
     "data": {
      "text/plain": [
       "1698850445"
      ]
     },
     "execution_count": 41,
     "metadata": {},
     "output_type": "execute_result"
    }
   ],
   "source": [
    "data = get_data(\"input.txt\")\n",
    "get_result(data)"
   ]
  }
 ],
 "metadata": {
  "kernelspec": {
   "display_name": "Python 3",
   "language": "python",
   "name": "python3"
  },
  "language_info": {
   "codemirror_mode": {
    "name": "ipython",
    "version": 3
   },
   "file_extension": ".py",
   "mimetype": "text/x-python",
   "name": "python",
   "nbconvert_exporter": "python",
   "pygments_lexer": "ipython3",
   "version": "3.11.3"
  }
 },
 "nbformat": 4,
 "nbformat_minor": 2
}
