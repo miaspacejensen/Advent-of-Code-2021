{
 "cells": [
  {
   "cell_type": "code",
   "execution_count": 11,
   "metadata": {},
   "outputs": [],
   "source": [
    "def get_data(file_name):\n",
    "    with open(file_name, \"r\") as file:\n",
    "        text = file.read()\n",
    "    lines = [[item.split(\" \") for item in line.split(\" | \")] for line in text.split(\"\\n\")]\n",
    "    return lines"
   ]
  },
  {
   "cell_type": "code",
   "execution_count": 19,
   "metadata": {},
   "outputs": [],
   "source": [
    "digit_segments = {\n",
    "    0: [\"a\",\"b\",\"c\",\"e\",\"f\",\"g\"],\n",
    "    1: [\"c\",\"f\"],\n",
    "    2: [\"a\",\"c\",\"d\",\"e\",\"g\"],\n",
    "    3: [\"a\",\"c\",\"d\",\"f\",\"g\"],\n",
    "    4: [\"b\",\"c\",\"d\",\"f\"],\n",
    "    5: [\"a\",\"b\",\"d\",\"f\",\"g\"],\n",
    "    6: [\"a\",\"b\",\"d\",\"e\",\"f\",\"g\"],\n",
    "    7: [\"a\",\"c\",\"f\"],\n",
    "    8: [\"a\",\"b\",\"c\",\"d\",\"e\",\"f\",\"g\"],\n",
    "    9: [\"a\",\"b\",\"c\",\"d\",\"f\",\"g\"]\n",
    "}\n",
    "digit_seg_lens = {}\n",
    "for digit, segements in digit_segments.items():\n",
    "    digit_seg_lens[digit] = len(segements)"
   ]
  },
  {
   "cell_type": "code",
   "execution_count": 86,
   "metadata": {},
   "outputs": [],
   "source": [
    "def get_easy_digit_count(entries):\n",
    "    all_digits = []\n",
    "    for signals, ouput in entries:\n",
    "        digit_list = []\n",
    "        for sig in ouput:\n",
    "            len_sig = len(sig)\n",
    "            possible_digits = [key for key, val in digit_seg_lens.items() if val == len_sig]\n",
    "            if len(possible_digits) == 1:\n",
    "                digit_list += possible_digits\n",
    "        all_digits.append(digit_list)\n",
    "\n",
    "    total_digits = 0\n",
    "    for lst in all_digits:\n",
    "        total_digits += len(lst)\n",
    "\n",
    "    return total_digits"
   ]
  },
  {
   "cell_type": "code",
   "execution_count": 88,
   "metadata": {},
   "outputs": [
    {
     "data": {
      "text/plain": [
       "26"
      ]
     },
     "execution_count": 88,
     "metadata": {},
     "output_type": "execute_result"
    }
   ],
   "source": [
    "entries = get_data(\"input_sample2.txt\")\n",
    "get_easy_digit_count(entries)"
   ]
  },
  {
   "cell_type": "code",
   "execution_count": 89,
   "metadata": {},
   "outputs": [
    {
     "data": {
      "text/plain": [
       "272"
      ]
     },
     "execution_count": 89,
     "metadata": {},
     "output_type": "execute_result"
    }
   ],
   "source": [
    "entries = get_data(\"input.txt\")\n",
    "get_easy_digit_count(entries)"
   ]
  },
  {
   "cell_type": "markdown",
   "metadata": {},
   "source": [
    "Part 2"
   ]
  },
  {
   "cell_type": "code",
   "execution_count": 91,
   "metadata": {},
   "outputs": [
    {
     "data": {
      "text/plain": [
       "[[['acedgfb',\n",
       "   'cdfbe',\n",
       "   'gcdfa',\n",
       "   'fbcad',\n",
       "   'dab',\n",
       "   'cefabd',\n",
       "   'cdfgeb',\n",
       "   'eafb',\n",
       "   'cagedb',\n",
       "   'ab'],\n",
       "  ['cdfeb', 'fcadb', 'cdfeb', 'cdbaf']]]"
      ]
     },
     "execution_count": 91,
     "metadata": {},
     "output_type": "execute_result"
    }
   ],
   "source": [
    "entries = get_data(\"input_sample1.txt\")\n",
    "entries"
   ]
  }
 ],
 "metadata": {
  "kernelspec": {
   "display_name": "Python 3",
   "language": "python",
   "name": "python3"
  },
  "language_info": {
   "codemirror_mode": {
    "name": "ipython",
    "version": 3
   },
   "file_extension": ".py",
   "mimetype": "text/x-python",
   "name": "python",
   "nbconvert_exporter": "python",
   "pygments_lexer": "ipython3",
   "version": "3.11.3"
  }
 },
 "nbformat": 4,
 "nbformat_minor": 2
}
