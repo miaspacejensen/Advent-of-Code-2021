{
 "cells": [
  {
   "cell_type": "code",
   "execution_count": 1,
   "metadata": {},
   "outputs": [],
   "source": [
    "def get_data(file_name):\n",
    "    with open(file_name, \"r\") as file:\n",
    "        text = file.read()\n",
    "    lines = [[int(val) for val in list(line)] for line in text.split(\"\\n\")]\n",
    "    return lines"
   ]
  },
  {
   "cell_type": "code",
   "execution_count": 2,
   "metadata": {},
   "outputs": [],
   "source": [
    "def get_low_points(grid):\n",
    "    \n",
    "    max_row_index = len(grid)-1\n",
    "    max_col_index = len(grid[0])-1\n",
    "\n",
    "    offset_dic = {\n",
    "        \"up\": (-1,0),\n",
    "        \"down\": (1,0),\n",
    "        \"left\": (0,-1),\n",
    "        \"right\": (0,1)\n",
    "    }\n",
    "\n",
    "    low_points = []\n",
    "    low_point_positions = []\n",
    "\n",
    "    for row_index, row in enumerate(grid):\n",
    "        for col_index, col in enumerate(row):\n",
    "\n",
    "            val = grid[row_index][col_index]\n",
    "\n",
    "            count = 0\n",
    "            num_higher = 0\n",
    "            for offset_col, offset_row in list(offset_dic.values()):\n",
    "\n",
    "                offset_row_index = row_index + offset_row\n",
    "                offset_col_index = col_index + offset_col\n",
    "                \n",
    "                if offset_col_index >= 0 and offset_row_index >= 0 and  offset_col_index <= max_col_index and offset_row_index <= max_row_index:\n",
    "                    offset_val = grid[offset_row_index][offset_col_index]\n",
    "                    count += 1\n",
    "\n",
    "                    if offset_val > val:\n",
    "                        num_higher += 1\n",
    "\n",
    "            if count == num_higher:\n",
    "                low_points.append(val+1)\n",
    "                low_point_positions.append((col_index, row_index))\n",
    "\n",
    "    return low_points, low_point_positions\n"
   ]
  },
  {
   "cell_type": "code",
   "execution_count": 3,
   "metadata": {},
   "outputs": [
    {
     "data": {
      "text/plain": [
       "15"
      ]
     },
     "execution_count": 3,
     "metadata": {},
     "output_type": "execute_result"
    }
   ],
   "source": [
    "grid = get_data(\"input_sample.txt\")\n",
    "low_points, low_point_positions = get_low_points(grid)\n",
    "sum(low_points)"
   ]
  },
  {
   "cell_type": "code",
   "execution_count": 4,
   "metadata": {},
   "outputs": [
    {
     "data": {
      "text/plain": [
       "494"
      ]
     },
     "execution_count": 4,
     "metadata": {},
     "output_type": "execute_result"
    }
   ],
   "source": [
    "grid = get_data(\"input.txt\")\n",
    "low_points, low_point_positions = get_low_points(grid)\n",
    "sum(low_points)"
   ]
  },
  {
   "cell_type": "markdown",
   "metadata": {},
   "source": [
    "Part 2"
   ]
  },
  {
   "cell_type": "code",
   "execution_count": 5,
   "metadata": {},
   "outputs": [],
   "source": [
    "def get_surrounding_higher(grid, low_point_pos):\n",
    "\n",
    "    col_index, row_index = low_point_pos\n",
    "    val = grid[row_index][col_index]\n",
    "    \n",
    "    max_row_index = len(grid)-1\n",
    "    max_col_index = len(grid[0])-1\n",
    "\n",
    "    offset_dic = {\n",
    "        \"up\": (-1,0),\n",
    "        \"down\": (1,0),\n",
    "        \"left\": (0,-1),\n",
    "        \"right\": (0,1)\n",
    "    }\n",
    "\n",
    "    count = 0\n",
    "    surrounding_positions = []\n",
    "    surrounding_vals = []\n",
    "\n",
    "    for offset_col, offset_row in list(offset_dic.values()):\n",
    "        \n",
    "        offset_row_index = row_index + offset_row\n",
    "        offset_col_index = col_index + offset_col\n",
    "\n",
    "        if offset_col_index >= 0 and offset_row_index >= 0 and  offset_col_index <= max_col_index and offset_row_index <= max_row_index:\n",
    "            \n",
    "            count += 1\n",
    "\n",
    "            offset_pos = (offset_col_index, offset_row_index)\n",
    "            offset_val = grid[offset_row_index][offset_col_index]\n",
    "\n",
    "            surrounding_positions.append(offset_pos)\n",
    "            surrounding_vals.append(offset_val)\n",
    "\n",
    "    return val, surrounding_positions, surrounding_vals"
   ]
  },
  {
   "cell_type": "code",
   "execution_count": 6,
   "metadata": {},
   "outputs": [
    {
     "name": "stdout",
     "output_type": "stream",
     "text": [
      "1 [(0, 0), (2, 0), (1, 1)]\n",
      " >  [(0, 0)]\n",
      "0 [(8, 0), (9, 1)]\n",
      " >  [(8, 0), (9, 1)]\n",
      "5 [(1, 2), (3, 2), (2, 1), (2, 3)]\n",
      " >  [(1, 2), (3, 2), (2, 1), (2, 3)]\n",
      "5 [(5, 4), (7, 4), (6, 3)]\n",
      " >  [(5, 4), (7, 4), (6, 3)]\n"
     ]
    }
   ],
   "source": [
    "grid = get_data(\"input_sample.txt\")\n",
    "low_points, low_point_positions = get_low_points(grid)\n",
    "\n",
    "for low_point_pos in low_point_positions:\n",
    "    \n",
    "    val, surrounding_positions, surrounding_vals = get_surrounding_higher(grid, low_point_pos)\n",
    "\n",
    "    print(val, surrounding_positions)\n",
    "\n",
    "    for i, pos in enumerate(surrounding_positions[:]):\n",
    "        if surrounding_vals[i] == 9:\n",
    "            surrounding_positions.remove(pos)\n",
    "\n",
    "    print(\" > \", surrounding_positions)\n"
   ]
  },
  {
   "cell_type": "code",
   "execution_count": 152,
   "metadata": {},
   "outputs": [
    {
     "ename": "RecursionError",
     "evalue": "maximum recursion depth exceeded in comparison",
     "output_type": "error",
     "traceback": [
      "\u001b[1;31m---------------------------------------------------------------------------\u001b[0m",
      "\u001b[1;31mRecursionError\u001b[0m                            Traceback (most recent call last)",
      "Cell \u001b[1;32mIn[152], line 17\u001b[0m\n\u001b[0;32m     15\u001b[0m grid \u001b[38;5;241m=\u001b[39m get_data(\u001b[38;5;124m\"\u001b[39m\u001b[38;5;124minput_sample.txt\u001b[39m\u001b[38;5;124m\"\u001b[39m)\n\u001b[0;32m     16\u001b[0m low_points, low_point_positions \u001b[38;5;241m=\u001b[39m get_low_points(grid)\n\u001b[1;32m---> 17\u001b[0m \u001b[43mget_basin\u001b[49m\u001b[43m(\u001b[49m\u001b[43m(\u001b[49m\u001b[38;5;241;43m1\u001b[39;49m\u001b[43m,\u001b[49m\u001b[38;5;241;43m1\u001b[39;49m\u001b[43m)\u001b[49m\u001b[43m)\u001b[49m\n",
      "Cell \u001b[1;32mIn[152], line 13\u001b[0m, in \u001b[0;36mget_basin\u001b[1;34m(low_point_pos)\u001b[0m\n\u001b[0;32m     11\u001b[0m \u001b[38;5;28;01melse\u001b[39;00m:\n\u001b[0;32m     12\u001b[0m     \u001b[38;5;28;01mfor\u001b[39;00m pos \u001b[38;5;129;01min\u001b[39;00m surrounding_positions:\n\u001b[1;32m---> 13\u001b[0m         \u001b[43mget_basin\u001b[49m\u001b[43m(\u001b[49m\u001b[43mpos\u001b[49m\u001b[43m)\u001b[49m\n",
      "Cell \u001b[1;32mIn[152], line 13\u001b[0m, in \u001b[0;36mget_basin\u001b[1;34m(low_point_pos)\u001b[0m\n\u001b[0;32m     11\u001b[0m \u001b[38;5;28;01melse\u001b[39;00m:\n\u001b[0;32m     12\u001b[0m     \u001b[38;5;28;01mfor\u001b[39;00m pos \u001b[38;5;129;01min\u001b[39;00m surrounding_positions:\n\u001b[1;32m---> 13\u001b[0m         \u001b[43mget_basin\u001b[49m\u001b[43m(\u001b[49m\u001b[43mpos\u001b[49m\u001b[43m)\u001b[49m\n",
      "    \u001b[1;31m[... skipping similar frames: get_basin at line 13 (2968 times)]\u001b[0m\n",
      "Cell \u001b[1;32mIn[152], line 13\u001b[0m, in \u001b[0;36mget_basin\u001b[1;34m(low_point_pos)\u001b[0m\n\u001b[0;32m     11\u001b[0m \u001b[38;5;28;01melse\u001b[39;00m:\n\u001b[0;32m     12\u001b[0m     \u001b[38;5;28;01mfor\u001b[39;00m pos \u001b[38;5;129;01min\u001b[39;00m surrounding_positions:\n\u001b[1;32m---> 13\u001b[0m         \u001b[43mget_basin\u001b[49m\u001b[43m(\u001b[49m\u001b[43mpos\u001b[49m\u001b[43m)\u001b[49m\n",
      "Cell \u001b[1;32mIn[152], line 7\u001b[0m, in \u001b[0;36mget_basin\u001b[1;34m(low_point_pos)\u001b[0m\n\u001b[0;32m      5\u001b[0m \u001b[38;5;28;01mfor\u001b[39;00m i, pos \u001b[38;5;129;01min\u001b[39;00m \u001b[38;5;28menumerate\u001b[39m(surrounding_positions[:]):\n\u001b[0;32m      6\u001b[0m     \u001b[38;5;28;01mif\u001b[39;00m surrounding_vals[i] \u001b[38;5;241m==\u001b[39m \u001b[38;5;241m9\u001b[39m:\n\u001b[1;32m----> 7\u001b[0m         surrounding_positions\u001b[38;5;241m.\u001b[39mremove(pos)\n\u001b[0;32m      9\u001b[0m \u001b[38;5;28;01mif\u001b[39;00m \u001b[38;5;28mlen\u001b[39m(surrounding_positions) \u001b[38;5;241m==\u001b[39m \u001b[38;5;241m0\u001b[39m:\n\u001b[0;32m     10\u001b[0m     \u001b[38;5;28;01mreturn\u001b[39;00m surrounding_positions\n",
      "\u001b[1;31mRecursionError\u001b[0m: maximum recursion depth exceeded in comparison"
     ]
    }
   ],
   "source": [
    "def get_basin(low_point_pos):\n",
    "\n",
    "    val, surrounding_positions, surrounding_vals = get_surrounding_higher(grid, low_point_pos)\n",
    "\n",
    "    for i, pos in enumerate(surrounding_positions[:]):\n",
    "        if surrounding_vals[i] == 9:\n",
    "            surrounding_positions.remove(pos)\n",
    "    \n",
    "    if len(surrounding_positions) == 0:\n",
    "        return surrounding_positions\n",
    "    else:\n",
    "        for pos in surrounding_positions:\n",
    "            get_basin(pos)\n",
    "\n",
    "grid = get_data(\"input_sample.txt\")\n",
    "low_points, low_point_positions = get_low_points(grid)\n",
    "get_basin((1,1))"
   ]
  },
  {
   "cell_type": "code",
   "execution_count": null,
   "metadata": {},
   "outputs": [],
   "source": []
  }
 ],
 "metadata": {
  "kernelspec": {
   "display_name": "Python 3",
   "language": "python",
   "name": "python3"
  },
  "language_info": {
   "codemirror_mode": {
    "name": "ipython",
    "version": 3
   },
   "file_extension": ".py",
   "mimetype": "text/x-python",
   "name": "python",
   "nbconvert_exporter": "python",
   "pygments_lexer": "ipython3",
   "version": "3.11.3"
  }
 },
 "nbformat": 4,
 "nbformat_minor": 2
}
