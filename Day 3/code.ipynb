{
 "cells": [
  {
   "cell_type": "markdown",
   "metadata": {},
   "source": [
    "Part 1"
   ]
  },
  {
   "cell_type": "code",
   "execution_count": 16,
   "metadata": {},
   "outputs": [],
   "source": [
    "import pandas as pd"
   ]
  },
  {
   "cell_type": "code",
   "execution_count": 26,
   "metadata": {},
   "outputs": [],
   "source": [
    "def get_data(file_name):\n",
    "    with open(file_name, \"r\") as file:\n",
    "        text = file.read()\n",
    "    lists = text.split(\"\\n\")\n",
    "    lists = [list(lst) for lst in lists] #[int(val) for val in list(lst)] \n",
    "    return lists"
   ]
  },
  {
   "cell_type": "code",
   "execution_count": null,
   "metadata": {},
   "outputs": [],
   "source": [
    "def get_power_consumption(data):\n",
    "    df = pd.DataFrame(data)\n",
    "\n",
    "    df_most_freq = list(df.mode().iloc[0])\n",
    "    bin_num_most_freq = \"\".join(df_most_freq)\n",
    "    gamma_rate = int(bin_num_most_freq, 2)\n",
    "\n",
    "    df_least_freq = {col: df[col].value_counts().idxmin() for col in df.columns}\n",
    "    bin_num_least_freq = \"\".join(df_least_freq.values())\n",
    "    epsilon_rate = int(bin_num_least_freq, 2)\n",
    "\n",
    "    result = gamma_rate * epsilon_rate\n",
    "    return result"
   ]
  },
  {
   "cell_type": "code",
   "execution_count": 52,
   "metadata": {},
   "outputs": [
    {
     "data": {
      "text/plain": [
       "198"
      ]
     },
     "execution_count": 52,
     "metadata": {},
     "output_type": "execute_result"
    }
   ],
   "source": [
    "data = get_data(\"input_sample.txt\")\n",
    "get_power_consumption(data)"
   ]
  },
  {
   "cell_type": "code",
   "execution_count": 53,
   "metadata": {},
   "outputs": [
    {
     "data": {
      "text/plain": [
       "841526"
      ]
     },
     "execution_count": 53,
     "metadata": {},
     "output_type": "execute_result"
    }
   ],
   "source": [
    "data = get_data(\"input.txt\")\n",
    "get_power_consumption(data)"
   ]
  },
  {
   "cell_type": "markdown",
   "metadata": {},
   "source": [
    "Part 2"
   ]
  },
  {
   "cell_type": "code",
   "execution_count": null,
   "metadata": {},
   "outputs": [],
   "source": [
    "def get_power_consumption(data):\n",
    "    df = pd.DataFrame(data)\n",
    "\n",
    "    df_most_freq = list(df.mode().iloc[0])\n",
    "    bin_num_most_freq = \"\".join(df_most_freq)\n",
    "    gamma_rate = int(bin_num_most_freq, 2)\n",
    "\n",
    "    df_least_freq = {col: df[col].value_counts().idxmin() for col in df.columns}\n",
    "    bin_num_least_freq = \"\".join(df_least_freq.values())\n",
    "    epsilon_rate = int(bin_num_least_freq, 2)\n",
    "\n",
    "    result = gamma_rate * epsilon_rate\n",
    "    return result"
   ]
  },
  {
   "cell_type": "code",
   "execution_count": null,
   "metadata": {},
   "outputs": [],
   "source": []
  }
 ],
 "metadata": {
  "kernelspec": {
   "display_name": "Python 3",
   "language": "python",
   "name": "python3"
  },
  "language_info": {
   "codemirror_mode": {
    "name": "ipython",
    "version": 3
   },
   "file_extension": ".py",
   "mimetype": "text/x-python",
   "name": "python",
   "nbconvert_exporter": "python",
   "pygments_lexer": "ipython3",
   "version": "3.11.3"
  }
 },
 "nbformat": 4,
 "nbformat_minor": 2
}
