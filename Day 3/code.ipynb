{
 "cells": [
  {
   "cell_type": "markdown",
   "metadata": {},
   "source": [
    "Part 1"
   ]
  },
  {
   "cell_type": "code",
   "execution_count": 81,
   "metadata": {},
   "outputs": [],
   "source": [
    "import pandas as pd\n",
    "import numpy as np"
   ]
  },
  {
   "cell_type": "code",
   "execution_count": 82,
   "metadata": {},
   "outputs": [],
   "source": [
    "def get_data(file_name):\n",
    "    with open(file_name, \"r\") as file:\n",
    "        text = file.read()\n",
    "    lists = text.split(\"\\n\")\n",
    "    lists = [list(lst) for lst in lists] #[int(val) for val in list(lst)] \n",
    "    return lists"
   ]
  },
  {
   "cell_type": "code",
   "execution_count": 83,
   "metadata": {},
   "outputs": [],
   "source": [
    "def get_power_consumption(data):\n",
    "    df = pd.DataFrame(data)\n",
    "\n",
    "    df_most_freq = list(df.mode().iloc[0])\n",
    "    bin_num_most_freq = \"\".join(df_most_freq)\n",
    "    gamma_rate = int(bin_num_most_freq, 2)\n",
    "\n",
    "    df_least_freq = {col: df[col].value_counts().idxmin() for col in df.columns}\n",
    "    bin_num_least_freq = \"\".join(df_least_freq.values())\n",
    "    epsilon_rate = int(bin_num_least_freq, 2)\n",
    "\n",
    "    result = gamma_rate * epsilon_rate\n",
    "    return result"
   ]
  },
  {
   "cell_type": "code",
   "execution_count": 84,
   "metadata": {},
   "outputs": [
    {
     "data": {
      "text/plain": [
       "198"
      ]
     },
     "execution_count": 84,
     "metadata": {},
     "output_type": "execute_result"
    }
   ],
   "source": [
    "data = get_data(\"input_sample.txt\")\n",
    "get_power_consumption(data)"
   ]
  },
  {
   "cell_type": "code",
   "execution_count": 85,
   "metadata": {},
   "outputs": [
    {
     "data": {
      "text/plain": [
       "841526"
      ]
     },
     "execution_count": 85,
     "metadata": {},
     "output_type": "execute_result"
    }
   ],
   "source": [
    "data = get_data(\"input.txt\")\n",
    "get_power_consumption(data)"
   ]
  },
  {
   "cell_type": "markdown",
   "metadata": {},
   "source": [
    "Part 2"
   ]
  },
  {
   "cell_type": "code",
   "execution_count": 155,
   "metadata": {},
   "outputs": [],
   "source": [
    "def get_rating(file_name, rating):\n",
    "\n",
    "    # get dataframe\n",
    "    bin_nums = get_data(file_name)\n",
    "    df = pd.DataFrame(bin_nums)\n",
    "\n",
    "    for i in range(len(df.columns)):\n",
    "\n",
    "        if rating == \"Oxygen\":\n",
    "\n",
    "            # find most common value from first bits\n",
    "            most_common = list(df[i].mode())\n",
    "            if len(most_common) > 1: \n",
    "                value = '1'\n",
    "            else:\n",
    "                value = most_common[0]\n",
    "        \n",
    "        elif rating == \"CO2\":\n",
    "\n",
    "            # find least common value from first bits\n",
    "            least_common = df[i].value_counts(ascending=True).loc[lambda x: x == x.min()].index.tolist()\n",
    "            if len(least_common) > 1: \n",
    "                value = '0'\n",
    "            else:\n",
    "                value = least_common[0]\n",
    "\n",
    "        # filter dataframe\n",
    "        df = df[df[i]==value]\n",
    "        \n",
    "        if len(df) == 1:\n",
    "            break\n",
    "\n",
    "    rating = ''.join(list(df.iloc[0]))\n",
    "    rating = int(rating, 2)\n",
    "    \n",
    "    return rating"
   ]
  },
  {
   "cell_type": "code",
   "execution_count": 157,
   "metadata": {},
   "outputs": [
    {
     "data": {
      "text/plain": [
       "230"
      ]
     },
     "execution_count": 157,
     "metadata": {},
     "output_type": "execute_result"
    }
   ],
   "source": [
    "file_name = \"input_sample.txt\"\n",
    "oxygen = get_rating(file_name, rating=\"Oxygen\")\n",
    "co2 = get_rating(file_name, rating=\"CO2\")\n",
    "result = oxygen * co2\n",
    "result"
   ]
  },
  {
   "cell_type": "code",
   "execution_count": 158,
   "metadata": {},
   "outputs": [
    {
     "data": {
      "text/plain": [
       "4790390"
      ]
     },
     "execution_count": 158,
     "metadata": {},
     "output_type": "execute_result"
    }
   ],
   "source": [
    "file_name = \"input.txt\"\n",
    "oxygen = get_rating(file_name, rating=\"Oxygen\")\n",
    "co2 = get_rating(file_name, rating=\"CO2\")\n",
    "result = oxygen * co2\n",
    "result"
   ]
  }
 ],
 "metadata": {
  "kernelspec": {
   "display_name": "Python 3",
   "language": "python",
   "name": "python3"
  },
  "language_info": {
   "codemirror_mode": {
    "name": "ipython",
    "version": 3
   },
   "file_extension": ".py",
   "mimetype": "text/x-python",
   "name": "python",
   "nbconvert_exporter": "python",
   "pygments_lexer": "ipython3",
   "version": "3.11.3"
  }
 },
 "nbformat": 4,
 "nbformat_minor": 2
}
