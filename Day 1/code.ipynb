{
 "cells": [
  {
   "cell_type": "markdown",
   "metadata": {},
   "source": [
    "Part 1"
   ]
  },
  {
   "cell_type": "code",
   "execution_count": 1,
   "metadata": {},
   "outputs": [],
   "source": [
    "import pandas as pd\n",
    "import numpy as np"
   ]
  },
  {
   "cell_type": "code",
   "execution_count": 2,
   "metadata": {},
   "outputs": [],
   "source": [
    "def get_data(file_name):\n",
    "    with open(file_name, \"r\") as file:\n",
    "        text = file.read()\n",
    "    values = text.split(\"\\n\")\n",
    "    values = [int(val) for val in values]\n",
    "    return values"
   ]
  },
  {
   "cell_type": "code",
   "execution_count": 6,
   "metadata": {},
   "outputs": [],
   "source": [
    "def get_num_meas_greater_than_prev(depths):\n",
    "\n",
    "    df = pd.DataFrame(depths, columns=[\"Depth\"])\n",
    "\n",
    "    conditions = [\n",
    "        df[\"Depth\"] > df[\"Depth\"].shift(1),\n",
    "        df[\"Depth\"] < df[\"Depth\"].shift(1),\n",
    "        df[\"Depth\"] == df[\"Depth\"].shift(1)\n",
    "    ]\n",
    "    choices = [\n",
    "        \"(increased)\",\n",
    "        \"(decreased)\",\n",
    "        \"(no change)\"\n",
    "    ]\n",
    "    df[\"Direction\"] = np.select(conditions, choices, default=np.nan)\n",
    "\n",
    "    count_increase = len(df[df[\"Direction\"]==\"(increased)\"])\n",
    "    count_decrease = len(df[df[\"Direction\"]==\"(decreased)\"])\n",
    "    count_no_change = len(df[df[\"Direction\"]==\"(no change)\"])\n",
    "\n",
    "    return df, [count_increase, count_decrease, count_no_change]"
   ]
  },
  {
   "cell_type": "code",
   "execution_count": 7,
   "metadata": {},
   "outputs": [
    {
     "data": {
      "text/plain": [
       "7"
      ]
     },
     "execution_count": 7,
     "metadata": {},
     "output_type": "execute_result"
    }
   ],
   "source": [
    "depths = get_data(\"input_sample.txt\")\n",
    "df, counts = get_num_meas_greater_than_prev(depths)\n",
    "counts[0]"
   ]
  },
  {
   "cell_type": "code",
   "execution_count": 8,
   "metadata": {},
   "outputs": [
    {
     "data": {
      "text/plain": [
       "1616"
      ]
     },
     "execution_count": 8,
     "metadata": {},
     "output_type": "execute_result"
    }
   ],
   "source": [
    "depths = get_data(\"input.txt\")\n",
    "df, counts = get_num_meas_greater_than_prev(depths)\n",
    "counts[0]"
   ]
  },
  {
   "cell_type": "markdown",
   "metadata": {},
   "source": [
    "Part 2"
   ]
  },
  {
   "cell_type": "code",
   "execution_count": 19,
   "metadata": {},
   "outputs": [],
   "source": [
    "def get_new_depths(depths):\n",
    "    start_window = 0\n",
    "    new_depths = []\n",
    "    df = pd.DataFrame(depths, columns=[\"Depth\"])\n",
    "    for index, row in df.iterrows():\n",
    "        len_window = start_window + 3\n",
    "        sum = 0\n",
    "        try:\n",
    "            for i in range(start_window, len_window):\n",
    "                val = df.iloc[i,0]\n",
    "                sum += val\n",
    "            new_depths.append(sum)\n",
    "            start_window += 1\n",
    "        except IndexError:\n",
    "            break\n",
    "    return new_depths"
   ]
  },
  {
   "cell_type": "code",
   "execution_count": 23,
   "metadata": {},
   "outputs": [
    {
     "data": {
      "text/plain": [
       "5"
      ]
     },
     "execution_count": 23,
     "metadata": {},
     "output_type": "execute_result"
    }
   ],
   "source": [
    "depths = get_data(\"input_sample.txt\")\n",
    "new_depths = get_new_depths(depths)\n",
    "df, counts = get_num_meas_greater_than_prev(new_depths)\n",
    "counts[0]"
   ]
  },
  {
   "cell_type": "code",
   "execution_count": 24,
   "metadata": {},
   "outputs": [
    {
     "data": {
      "text/plain": [
       "1645"
      ]
     },
     "execution_count": 24,
     "metadata": {},
     "output_type": "execute_result"
    }
   ],
   "source": [
    "depths = get_data(\"input.txt\")\n",
    "new_depths = get_new_depths(depths)\n",
    "df, counts = get_num_meas_greater_than_prev(new_depths)\n",
    "counts[0]"
   ]
  }
 ],
 "metadata": {
  "kernelspec": {
   "display_name": "Python 3",
   "language": "python",
   "name": "python3"
  },
  "language_info": {
   "codemirror_mode": {
    "name": "ipython",
    "version": 3
   },
   "file_extension": ".py",
   "mimetype": "text/x-python",
   "name": "python",
   "nbconvert_exporter": "python",
   "pygments_lexer": "ipython3",
   "version": "3.11.3"
  }
 },
 "nbformat": 4,
 "nbformat_minor": 2
}
