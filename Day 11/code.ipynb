{
 "cells": [
  {
   "cell_type": "code",
   "execution_count": 1,
   "metadata": {},
   "outputs": [],
   "source": [
    "def get_data(file_name):\n",
    "    with open(file_name, \"r\") as file:\n",
    "        text = file.read()\n",
    "    lines = [[int(val) for val in list(line)] for line in text.split(\"\\n\")]\n",
    "    return lines"
   ]
  },
  {
   "cell_type": "code",
   "execution_count": 2,
   "metadata": {},
   "outputs": [],
   "source": [
    "def display(grid):\n",
    "    for row in grid:\n",
    "        print(\"\".join(str(val) for val in row))"
   ]
  },
  {
   "cell_type": "code",
   "execution_count": 3,
   "metadata": {},
   "outputs": [],
   "source": [
    "directions = [\n",
    "    (-1,-1), (-1, 0), (-1, 1),\n",
    "    ( 0,-1),          ( 0, 1),\n",
    "    ( 1,-1), ( 1, 0), ( 1, 1)\n",
    "]"
   ]
  },
  {
   "cell_type": "code",
   "execution_count": 4,
   "metadata": {},
   "outputs": [],
   "source": [
    "def step_a(grid):\n",
    "\n",
    "    grid = [[val + 1 for val in row] for row in grid]\n",
    "\n",
    "    flashed = []\n",
    "\n",
    "    for i, row in enumerate(grid):\n",
    "        for j, col in enumerate(row):\n",
    "            \n",
    "            val = grid[i][j]\n",
    "\n",
    "            if val > 9 and (i, j) not in flashed:\n",
    "\n",
    "                flashed.append((i,j))\n",
    "\n",
    "    return grid, flashed "
   ]
  },
  {
   "cell_type": "code",
   "execution_count": 5,
   "metadata": {},
   "outputs": [],
   "source": [
    "def step_b(grid, flashed):\n",
    "\n",
    "    for i, j in flashed:\n",
    "\n",
    "        for di, dj in directions:\n",
    "\n",
    "            try: \n",
    "                grid[i+di][j+dj] += 1\n",
    "            except IndexError:\n",
    "                print(\"Out of index\")\n",
    "\n",
    "    return grid"
   ]
  },
  {
   "cell_type": "code",
   "execution_count": 6,
   "metadata": {},
   "outputs": [],
   "source": [
    "def step_c(grid, flashed):\n",
    "\n",
    "    for pos in flashed:\n",
    "        grid[pos[0]][pos[1]] = 0\n",
    "\n",
    "    return grid "
   ]
  },
  {
   "cell_type": "code",
   "execution_count": 15,
   "metadata": {},
   "outputs": [],
   "source": [
    "def step(grid):\n",
    "    grid, flashed = step_a(grid)\n",
    "    grid = step_b(grid, flashed)\n",
    "    grid = step_c(grid, flashed)\n",
    "    return grid"
   ]
  },
  {
   "cell_type": "code",
   "execution_count": 17,
   "metadata": {},
   "outputs": [
    {
     "name": "stdout",
     "output_type": "stream",
     "text": [
      "\n",
      "34543\n",
      "40004\n",
      "501005\n",
      "40004\n",
      "34543\n",
      "\n",
      "45654\n",
      "52225\n",
      "62026\n",
      "52225\n",
      "45654\n",
      "\n",
      "56765\n",
      "63336\n",
      "73137\n",
      "63336\n",
      "56765\n"
     ]
    }
   ],
   "source": [
    "grid = get_data(\"input_sample2.txt\")\n",
    "loop = 0\n",
    "while loop < 3:\n",
    "    loop += 1\n",
    "    grid = step(grid)\n",
    "    print()\n",
    "    display(grid)"
   ]
  },
  {
   "cell_type": "code",
   "execution_count": null,
   "metadata": {},
   "outputs": [],
   "source": []
  }
 ],
 "metadata": {
  "kernelspec": {
   "display_name": "Python 3",
   "language": "python",
   "name": "python3"
  },
  "language_info": {
   "codemirror_mode": {
    "name": "ipython",
    "version": 3
   },
   "file_extension": ".py",
   "mimetype": "text/x-python",
   "name": "python",
   "nbconvert_exporter": "python",
   "pygments_lexer": "ipython3",
   "version": "3.11.3"
  }
 },
 "nbformat": 4,
 "nbformat_minor": 2
}
