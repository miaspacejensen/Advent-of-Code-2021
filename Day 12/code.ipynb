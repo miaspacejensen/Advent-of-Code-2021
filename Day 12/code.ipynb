{
 "cells": [
  {
   "cell_type": "code",
   "execution_count": 1,
   "metadata": {},
   "outputs": [],
   "source": [
    "def get_data(file_name):\n",
    "    with open(file_name, \"r\") as file:\n",
    "        text = file.read()\n",
    "    lines = [line.split(\"-\") for line in text.split(\"\\n\")]\n",
    "    return lines"
   ]
  },
  {
   "cell_type": "code",
   "execution_count": 8,
   "metadata": {},
   "outputs": [],
   "source": [
    "def convert_to_adjacency_matrix(map):\n",
    "    conn_graph = {}\n",
    "    for start_node, end_node in map:\n",
    "        if start_node in conn_graph:\n",
    "            conn_graph[start_node].append(end_node)\n",
    "        else:\n",
    "            conn_graph[start_node] = [end_node]\n",
    "        if end_node in conn_graph:\n",
    "            conn_graph[end_node].append(start_node)\n",
    "        else:\n",
    "            conn_graph[end_node] = [start_node]\n",
    "    return conn_graph"
   ]
  },
  {
   "cell_type": "code",
   "execution_count": 11,
   "metadata": {},
   "outputs": [
    {
     "data": {
      "text/plain": [
       "{'start': ['A', 'b'],\n",
       " 'A': ['start', 'c', 'b', 'end'],\n",
       " 'b': ['start', 'A', 'd', 'end'],\n",
       " 'c': ['A'],\n",
       " 'd': ['b'],\n",
       " 'end': ['A', 'b']}"
      ]
     },
     "execution_count": 11,
     "metadata": {},
     "output_type": "execute_result"
    }
   ],
   "source": [
    "map = get_data(\"input_sample.txt\")\n",
    "conn_graph = convert_to_adjacency_matrix(map)\n",
    "conn_graph"
   ]
  },
  {
   "cell_type": "code",
   "execution_count": 46,
   "metadata": {},
   "outputs": [],
   "source": [
    "def get_all_paths(conn_graph):\n",
    "\n",
    "    all_visited = []\n",
    "\n",
    "    def dfs(conn_graph, current_node, visited):\n",
    "        visited.append(current_node)\n",
    "        small_cave_dic = {\"a\":0, \"b\":0, \"c\":0}\n",
    "        for node in conn_graph[current_node]:\n",
    "            if node not in visited or node[0].isupper():\n",
    "                dfs(conn_graph, node, visited.copy())\n",
    "        all_visited.append(visited)\n",
    "\n",
    "    dfs(conn_graph, \"start\", [])\n",
    "\n",
    "    return all_visited\n",
    "\n",
    "def get_valid_paths(file_name):\n",
    "    map = get_data(file_name)\n",
    "    conn_graph = convert_to_adjacency_matrix(map)\n",
    "    paths = get_all_paths(conn_graph)\n",
    "    valid_paths = [path for path in paths if path[0]==\"start\" and path[-1]==\"end\"]\n",
    "    return valid_paths"
   ]
  },
  {
   "cell_type": "code",
   "execution_count": 38,
   "metadata": {},
   "outputs": [
    {
     "data": {
      "text/plain": [
       "10"
      ]
     },
     "execution_count": 38,
     "metadata": {},
     "output_type": "execute_result"
    }
   ],
   "source": [
    "file_name = \"input_sample.txt\"\n",
    "len(get_valid_paths(file_name))"
   ]
  },
  {
   "cell_type": "code",
   "execution_count": 39,
   "metadata": {},
   "outputs": [
    {
     "data": {
      "text/plain": [
       "19"
      ]
     },
     "execution_count": 39,
     "metadata": {},
     "output_type": "execute_result"
    }
   ],
   "source": [
    "file_name = \"input_sample2.txt\"\n",
    "len(get_valid_paths(file_name))"
   ]
  },
  {
   "cell_type": "code",
   "execution_count": 40,
   "metadata": {},
   "outputs": [
    {
     "data": {
      "text/plain": [
       "226"
      ]
     },
     "execution_count": 40,
     "metadata": {},
     "output_type": "execute_result"
    }
   ],
   "source": [
    "file_name = \"input_sample3.txt\"\n",
    "len(get_valid_paths(file_name))"
   ]
  },
  {
   "cell_type": "code",
   "execution_count": 41,
   "metadata": {},
   "outputs": [
    {
     "data": {
      "text/plain": [
       "4792"
      ]
     },
     "execution_count": 41,
     "metadata": {},
     "output_type": "execute_result"
    }
   ],
   "source": [
    "file_name = \"input.txt\"\n",
    "len(get_valid_paths(file_name))"
   ]
  },
  {
   "cell_type": "markdown",
   "metadata": {},
   "source": [
    "Part 2"
   ]
  },
  {
   "cell_type": "code",
   "execution_count": null,
   "metadata": {},
   "outputs": [],
   "source": []
  }
 ],
 "metadata": {
  "kernelspec": {
   "display_name": "Python 3",
   "language": "python",
   "name": "python3"
  },
  "language_info": {
   "codemirror_mode": {
    "name": "ipython",
    "version": 3
   },
   "file_extension": ".py",
   "mimetype": "text/x-python",
   "name": "python",
   "nbconvert_exporter": "python",
   "pygments_lexer": "ipython3",
   "version": "3.11.3"
  }
 },
 "nbformat": 4,
 "nbformat_minor": 2
}
