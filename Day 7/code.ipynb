{
 "cells": [
  {
   "cell_type": "code",
   "execution_count": 3,
   "metadata": {},
   "outputs": [],
   "source": [
    "def get_data(file_name):\n",
    "    with open(file_name, \"r\") as file:\n",
    "        text = file.read()\n",
    "    nums = [int(val) for val in text.split(\",\")]\n",
    "    return nums"
   ]
  },
  {
   "cell_type": "code",
   "execution_count": 69,
   "metadata": {},
   "outputs": [],
   "source": [
    "def get_least_fuel(positions):\n",
    "\n",
    "    min_pos = min(positions)\n",
    "    max_pos = max(positions)\n",
    "\n",
    "    dic = {}\n",
    "    prev_total = []\n",
    "    for a in range(min_pos, max_pos):\n",
    "\n",
    "        total_fuel = 0\n",
    "        for pos in positions:\n",
    "            steps = abs(pos - a)\n",
    "            total_fuel += steps\n",
    "            dic[a] = total_fuel\n",
    "\n",
    "        try:\n",
    "            if prev_total[-1] < total_fuel:\n",
    "                result = prev_total[-1]\n",
    "                break\n",
    "        except:\n",
    "            pass\n",
    "\n",
    "        prev_total.append(total_fuel)\n",
    "\n",
    "    return result"
   ]
  },
  {
   "cell_type": "code",
   "execution_count": 70,
   "metadata": {},
   "outputs": [
    {
     "data": {
      "text/plain": [
       "37"
      ]
     },
     "execution_count": 70,
     "metadata": {},
     "output_type": "execute_result"
    }
   ],
   "source": [
    "positions = get_data(\"input_sample.txt\")\n",
    "get_least_fuel(positions)"
   ]
  },
  {
   "cell_type": "code",
   "execution_count": 71,
   "metadata": {},
   "outputs": [
    {
     "data": {
      "text/plain": [
       "331067"
      ]
     },
     "execution_count": 71,
     "metadata": {},
     "output_type": "execute_result"
    }
   ],
   "source": [
    "positions = get_data(\"input.txt\")\n",
    "get_least_fuel(positions)"
   ]
  },
  {
   "cell_type": "markdown",
   "metadata": {},
   "source": [
    "Part 2"
   ]
  },
  {
   "cell_type": "code",
   "execution_count": 72,
   "metadata": {},
   "outputs": [],
   "source": [
    "def fuel_cost(steps):\n",
    "    return steps * (steps + 1) // 2"
   ]
  },
  {
   "cell_type": "code",
   "execution_count": null,
   "metadata": {},
   "outputs": [],
   "source": [
    "def get_least_fuel_p2(positions):\n",
    "\n",
    "    min_pos = min(positions)\n",
    "    max_pos = max(positions)\n",
    "\n",
    "    dic = {}\n",
    "    prev_total = []\n",
    "    for a in range(min_pos, max_pos):\n",
    "\n",
    "        total_fuel = 0\n",
    "        for pos in positions:\n",
    "            steps = abs(pos - a)\n",
    "            fuel = fuel_cost(steps)\n",
    "            total_fuel += fuel\n",
    "            dic[a] = total_fuel\n",
    "\n",
    "        try:\n",
    "            if prev_total[-1] < total_fuel:\n",
    "                result = prev_total[-1]\n",
    "                break\n",
    "        except:\n",
    "            pass\n",
    "\n",
    "        prev_total.append(total_fuel)\n",
    "\n",
    "    return result"
   ]
  },
  {
   "cell_type": "code",
   "execution_count": 83,
   "metadata": {},
   "outputs": [
    {
     "data": {
      "text/plain": [
       "168"
      ]
     },
     "execution_count": 83,
     "metadata": {},
     "output_type": "execute_result"
    }
   ],
   "source": [
    "positions = get_data(\"input_sample.txt\")\n",
    "get_least_fuel_p2(positions)"
   ]
  },
  {
   "cell_type": "code",
   "execution_count": 84,
   "metadata": {},
   "outputs": [
    {
     "data": {
      "text/plain": [
       "92881128"
      ]
     },
     "execution_count": 84,
     "metadata": {},
     "output_type": "execute_result"
    }
   ],
   "source": [
    "positions = get_data(\"input.txt\")\n",
    "get_least_fuel_p2(positions)"
   ]
  }
 ],
 "metadata": {
  "kernelspec": {
   "display_name": "Python 3",
   "language": "python",
   "name": "python3"
  },
  "language_info": {
   "codemirror_mode": {
    "name": "ipython",
    "version": 3
   },
   "file_extension": ".py",
   "mimetype": "text/x-python",
   "name": "python",
   "nbconvert_exporter": "python",
   "pygments_lexer": "ipython3",
   "version": "3.11.3"
  }
 },
 "nbformat": 4,
 "nbformat_minor": 2
}
